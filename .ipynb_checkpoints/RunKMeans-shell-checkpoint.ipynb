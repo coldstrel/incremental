{
 "cells": [
  {
   "cell_type": "code",
   "execution_count": 1,
   "id": "75829fef",
   "metadata": {},
   "outputs": [],
   "source": [
    "from pyspark import SparkConf, SparkContext\n",
    "from pyspark.mllib.clustering import KMeans\n",
    "from pyspark.mllib.linalg import Vectors\n",
    "from operator import add\n",
    "from pyspark.mllib.clustering import KMeans, KMeansModel\n",
    "from pyspark.rdd import RDD\n",
    "import math"
   ]
  },
  {
   "cell_type": "code",
   "execution_count": 7,
   "id": "e86392d8",
   "metadata": {
    "metadata": {}
   },
   "outputs": [
    {
     "ename": "Py4JError",
     "evalue": "An error occurred while calling None.org.apache.spark.sql.SparkSession. Trace:\npy4j.Py4JException: Constructor org.apache.spark.sql.SparkSession([class org.apache.spark.SparkContext, class java.util.HashMap]) does not exist\n\tat py4j.reflection.ReflectionEngine.getConstructor(ReflectionEngine.java:179)\n\tat py4j.reflection.ReflectionEngine.getConstructor(ReflectionEngine.java:196)\n\tat py4j.Gateway.invoke(Gateway.java:237)\n\tat py4j.commands.ConstructorCommand.invokeConstructor(ConstructorCommand.java:80)\n\tat py4j.commands.ConstructorCommand.execute(ConstructorCommand.java:69)\n\tat py4j.ClientServerConnection.waitForCommands(ClientServerConnection.java:182)\n\tat py4j.ClientServerConnection.run(ClientServerConnection.java:106)\n\tat java.lang.Thread.run(Thread.java:750)\n\n",
     "output_type": "error",
     "traceback": [
      "\u001b[0;31m---------------------------------------------------------------------------\u001b[0m",
      "\u001b[0;31mPy4JError\u001b[0m                                 Traceback (most recent call last)",
      "Cell \u001b[0;32mIn[7], line 3\u001b[0m\n\u001b[1;32m      1\u001b[0m \u001b[38;5;28;01mfrom\u001b[39;00m \u001b[38;5;21;01mpyspark\u001b[39;00m\u001b[38;5;21;01m.\u001b[39;00m\u001b[38;5;21;01msql\u001b[39;00m \u001b[38;5;28;01mimport\u001b[39;00m SparkSession\n\u001b[0;32m----> 3\u001b[0m spark \u001b[38;5;241m=\u001b[39m \u001b[43mSparkSession\u001b[49m\u001b[38;5;241;43m.\u001b[39;49m\u001b[43mbuilder\u001b[49m\u001b[38;5;241;43m.\u001b[39;49m\u001b[43mgetOrCreate\u001b[49m\u001b[43m(\u001b[49m\u001b[43m)\u001b[49m\n",
      "File \u001b[0;32m~/.local/lib/python3.10/site-packages/pyspark/sql/session.py:500\u001b[0m, in \u001b[0;36mSparkSession.Builder.getOrCreate\u001b[0;34m(self)\u001b[0m\n\u001b[1;32m    497\u001b[0m     sc \u001b[38;5;241m=\u001b[39m SparkContext\u001b[38;5;241m.\u001b[39mgetOrCreate(sparkConf)\n\u001b[1;32m    498\u001b[0m     \u001b[38;5;66;03m# Do not update `SparkConf` for existing `SparkContext`, as it's shared\u001b[39;00m\n\u001b[1;32m    499\u001b[0m     \u001b[38;5;66;03m# by all sessions.\u001b[39;00m\n\u001b[0;32m--> 500\u001b[0m     session \u001b[38;5;241m=\u001b[39m \u001b[43mSparkSession\u001b[49m\u001b[43m(\u001b[49m\u001b[43msc\u001b[49m\u001b[43m,\u001b[49m\u001b[43m \u001b[49m\u001b[43moptions\u001b[49m\u001b[38;5;241;43m=\u001b[39;49m\u001b[38;5;28;43mself\u001b[39;49m\u001b[38;5;241;43m.\u001b[39;49m\u001b[43m_options\u001b[49m\u001b[43m)\u001b[49m\n\u001b[1;32m    501\u001b[0m \u001b[38;5;28;01melse\u001b[39;00m:\n\u001b[1;32m    502\u001b[0m     \u001b[38;5;28mgetattr\u001b[39m(\n\u001b[1;32m    503\u001b[0m         \u001b[38;5;28mgetattr\u001b[39m(session\u001b[38;5;241m.\u001b[39m_jvm, \u001b[38;5;124m\"\u001b[39m\u001b[38;5;124mSparkSession$\u001b[39m\u001b[38;5;124m\"\u001b[39m), \u001b[38;5;124m\"\u001b[39m\u001b[38;5;124mMODULE$\u001b[39m\u001b[38;5;124m\"\u001b[39m\n\u001b[1;32m    504\u001b[0m     )\u001b[38;5;241m.\u001b[39mapplyModifiableSettings(session\u001b[38;5;241m.\u001b[39m_jsparkSession, \u001b[38;5;28mself\u001b[39m\u001b[38;5;241m.\u001b[39m_options)\n",
      "File \u001b[0;32m~/.local/lib/python3.10/site-packages/pyspark/sql/session.py:589\u001b[0m, in \u001b[0;36mSparkSession.__init__\u001b[0;34m(self, sparkContext, jsparkSession, options)\u001b[0m\n\u001b[1;32m    585\u001b[0m         \u001b[38;5;28mgetattr\u001b[39m(\u001b[38;5;28mgetattr\u001b[39m(\u001b[38;5;28mself\u001b[39m\u001b[38;5;241m.\u001b[39m_jvm, \u001b[38;5;124m\"\u001b[39m\u001b[38;5;124mSparkSession$\u001b[39m\u001b[38;5;124m\"\u001b[39m), \u001b[38;5;124m\"\u001b[39m\u001b[38;5;124mMODULE$\u001b[39m\u001b[38;5;124m\"\u001b[39m)\u001b[38;5;241m.\u001b[39mapplyModifiableSettings(\n\u001b[1;32m    586\u001b[0m             jsparkSession, options\n\u001b[1;32m    587\u001b[0m         )\n\u001b[1;32m    588\u001b[0m     \u001b[38;5;28;01melse\u001b[39;00m:\n\u001b[0;32m--> 589\u001b[0m         jsparkSession \u001b[38;5;241m=\u001b[39m \u001b[38;5;28;43mself\u001b[39;49m\u001b[38;5;241;43m.\u001b[39;49m\u001b[43m_jvm\u001b[49m\u001b[38;5;241;43m.\u001b[39;49m\u001b[43mSparkSession\u001b[49m\u001b[43m(\u001b[49m\u001b[38;5;28;43mself\u001b[39;49m\u001b[38;5;241;43m.\u001b[39;49m\u001b[43m_jsc\u001b[49m\u001b[38;5;241;43m.\u001b[39;49m\u001b[43msc\u001b[49m\u001b[43m(\u001b[49m\u001b[43m)\u001b[49m\u001b[43m,\u001b[49m\u001b[43m \u001b[49m\u001b[43moptions\u001b[49m\u001b[43m)\u001b[49m\n\u001b[1;32m    590\u001b[0m \u001b[38;5;28;01melse\u001b[39;00m:\n\u001b[1;32m    591\u001b[0m     \u001b[38;5;28mgetattr\u001b[39m(\u001b[38;5;28mgetattr\u001b[39m(\u001b[38;5;28mself\u001b[39m\u001b[38;5;241m.\u001b[39m_jvm, \u001b[38;5;124m\"\u001b[39m\u001b[38;5;124mSparkSession$\u001b[39m\u001b[38;5;124m\"\u001b[39m), \u001b[38;5;124m\"\u001b[39m\u001b[38;5;124mMODULE$\u001b[39m\u001b[38;5;124m\"\u001b[39m)\u001b[38;5;241m.\u001b[39mapplyModifiableSettings(\n\u001b[1;32m    592\u001b[0m         jsparkSession, options\n\u001b[1;32m    593\u001b[0m     )\n",
      "File \u001b[0;32m~/.local/lib/python3.10/site-packages/py4j/java_gateway.py:1587\u001b[0m, in \u001b[0;36mJavaClass.__call__\u001b[0;34m(self, *args)\u001b[0m\n\u001b[1;32m   1581\u001b[0m command \u001b[38;5;241m=\u001b[39m proto\u001b[38;5;241m.\u001b[39mCONSTRUCTOR_COMMAND_NAME \u001b[38;5;241m+\u001b[39m\\\n\u001b[1;32m   1582\u001b[0m     \u001b[38;5;28mself\u001b[39m\u001b[38;5;241m.\u001b[39m_command_header \u001b[38;5;241m+\u001b[39m\\\n\u001b[1;32m   1583\u001b[0m     args_command \u001b[38;5;241m+\u001b[39m\\\n\u001b[1;32m   1584\u001b[0m     proto\u001b[38;5;241m.\u001b[39mEND_COMMAND_PART\n\u001b[1;32m   1586\u001b[0m answer \u001b[38;5;241m=\u001b[39m \u001b[38;5;28mself\u001b[39m\u001b[38;5;241m.\u001b[39m_gateway_client\u001b[38;5;241m.\u001b[39msend_command(command)\n\u001b[0;32m-> 1587\u001b[0m return_value \u001b[38;5;241m=\u001b[39m \u001b[43mget_return_value\u001b[49m\u001b[43m(\u001b[49m\n\u001b[1;32m   1588\u001b[0m \u001b[43m    \u001b[49m\u001b[43manswer\u001b[49m\u001b[43m,\u001b[49m\u001b[43m \u001b[49m\u001b[38;5;28;43mself\u001b[39;49m\u001b[38;5;241;43m.\u001b[39;49m\u001b[43m_gateway_client\u001b[49m\u001b[43m,\u001b[49m\u001b[43m \u001b[49m\u001b[38;5;28;43;01mNone\u001b[39;49;00m\u001b[43m,\u001b[49m\u001b[43m \u001b[49m\u001b[38;5;28;43mself\u001b[39;49m\u001b[38;5;241;43m.\u001b[39;49m\u001b[43m_fqn\u001b[49m\u001b[43m)\u001b[49m\n\u001b[1;32m   1590\u001b[0m \u001b[38;5;28;01mfor\u001b[39;00m temp_arg \u001b[38;5;129;01min\u001b[39;00m temp_args:\n\u001b[1;32m   1591\u001b[0m     \u001b[38;5;28;01mif\u001b[39;00m \u001b[38;5;28mhasattr\u001b[39m(temp_arg, \u001b[38;5;124m\"\u001b[39m\u001b[38;5;124m_detach\u001b[39m\u001b[38;5;124m\"\u001b[39m):\n",
      "File \u001b[0;32m~/.local/lib/python3.10/site-packages/py4j/protocol.py:330\u001b[0m, in \u001b[0;36mget_return_value\u001b[0;34m(answer, gateway_client, target_id, name)\u001b[0m\n\u001b[1;32m    326\u001b[0m         \u001b[38;5;28;01mraise\u001b[39;00m Py4JJavaError(\n\u001b[1;32m    327\u001b[0m             \u001b[38;5;124m\"\u001b[39m\u001b[38;5;124mAn error occurred while calling \u001b[39m\u001b[38;5;132;01m{0}\u001b[39;00m\u001b[38;5;132;01m{1}\u001b[39;00m\u001b[38;5;132;01m{2}\u001b[39;00m\u001b[38;5;124m.\u001b[39m\u001b[38;5;130;01m\\n\u001b[39;00m\u001b[38;5;124m\"\u001b[39m\u001b[38;5;241m.\u001b[39m\n\u001b[1;32m    328\u001b[0m             \u001b[38;5;28mformat\u001b[39m(target_id, \u001b[38;5;124m\"\u001b[39m\u001b[38;5;124m.\u001b[39m\u001b[38;5;124m\"\u001b[39m, name), value)\n\u001b[1;32m    329\u001b[0m     \u001b[38;5;28;01melse\u001b[39;00m:\n\u001b[0;32m--> 330\u001b[0m         \u001b[38;5;28;01mraise\u001b[39;00m Py4JError(\n\u001b[1;32m    331\u001b[0m             \u001b[38;5;124m\"\u001b[39m\u001b[38;5;124mAn error occurred while calling \u001b[39m\u001b[38;5;132;01m{0}\u001b[39;00m\u001b[38;5;132;01m{1}\u001b[39;00m\u001b[38;5;132;01m{2}\u001b[39;00m\u001b[38;5;124m. Trace:\u001b[39m\u001b[38;5;130;01m\\n\u001b[39;00m\u001b[38;5;132;01m{3}\u001b[39;00m\u001b[38;5;130;01m\\n\u001b[39;00m\u001b[38;5;124m\"\u001b[39m\u001b[38;5;241m.\u001b[39m\n\u001b[1;32m    332\u001b[0m             \u001b[38;5;28mformat\u001b[39m(target_id, \u001b[38;5;124m\"\u001b[39m\u001b[38;5;124m.\u001b[39m\u001b[38;5;124m\"\u001b[39m, name, value))\n\u001b[1;32m    333\u001b[0m \u001b[38;5;28;01melse\u001b[39;00m:\n\u001b[1;32m    334\u001b[0m     \u001b[38;5;28;01mraise\u001b[39;00m Py4JError(\n\u001b[1;32m    335\u001b[0m         \u001b[38;5;124m\"\u001b[39m\u001b[38;5;124mAn error occurred while calling \u001b[39m\u001b[38;5;132;01m{0}\u001b[39;00m\u001b[38;5;132;01m{1}\u001b[39;00m\u001b[38;5;132;01m{2}\u001b[39;00m\u001b[38;5;124m\"\u001b[39m\u001b[38;5;241m.\u001b[39m\n\u001b[1;32m    336\u001b[0m         \u001b[38;5;28mformat\u001b[39m(target_id, \u001b[38;5;124m\"\u001b[39m\u001b[38;5;124m.\u001b[39m\u001b[38;5;124m\"\u001b[39m, name))\n",
      "\u001b[0;31mPy4JError\u001b[0m: An error occurred while calling None.org.apache.spark.sql.SparkSession. Trace:\npy4j.Py4JException: Constructor org.apache.spark.sql.SparkSession([class org.apache.spark.SparkContext, class java.util.HashMap]) does not exist\n\tat py4j.reflection.ReflectionEngine.getConstructor(ReflectionEngine.java:179)\n\tat py4j.reflection.ReflectionEngine.getConstructor(ReflectionEngine.java:196)\n\tat py4j.Gateway.invoke(Gateway.java:237)\n\tat py4j.commands.ConstructorCommand.invokeConstructor(ConstructorCommand.java:80)\n\tat py4j.commands.ConstructorCommand.execute(ConstructorCommand.java:69)\n\tat py4j.ClientServerConnection.waitForCommands(ClientServerConnection.java:182)\n\tat py4j.ClientServerConnection.run(ClientServerConnection.java:106)\n\tat java.lang.Thread.run(Thread.java:750)\n\n"
     ]
    }
   ],
   "source": [
    "from pyspark.sql import SparkSession\n",
    "\n",
    "spark = SparkSession.builder.getOrCreate()"
   ]
  },
  {
   "cell_type": "code",
   "execution_count": 4,
   "id": "7aac24dc",
   "metadata": {
    "metadata": {}
   },
   "outputs": [],
   "source": [
    "sc = SparkContext.getOrCreate()\n",
    "\n",
    "rawData = sc.textFile(\"../Data/kddcup.corrected.csv\").sample(False, 0.01)\n",
    "# 1 percent of data , randomly sampled."
   ]
  },
  {
   "cell_type": "code",
   "execution_count": 5,
   "id": "b9f5a8be",
   "metadata": {
    "metadata": {}
   },
   "outputs": [
    {
     "ename": "TypeError",
     "evalue": "'JavaPackage' object is not callable",
     "output_type": "error",
     "traceback": [
      "\u001b[0;31m---------------------------------------------------------------------------\u001b[0m",
      "\u001b[0;31mTypeError\u001b[0m                                 Traceback (most recent call last)",
      "Cell \u001b[0;32mIn[5], line 5\u001b[0m\n\u001b[1;32m      2\u001b[0m last_column_values \u001b[38;5;241m=\u001b[39m rawData\u001b[38;5;241m.\u001b[39mmap(\u001b[38;5;28;01mlambda\u001b[39;00m x: x\u001b[38;5;241m.\u001b[39msplit(\u001b[38;5;124m'\u001b[39m\u001b[38;5;124m,\u001b[39m\u001b[38;5;124m'\u001b[39m)[\u001b[38;5;241m-\u001b[39m\u001b[38;5;241m1\u001b[39m])\n\u001b[1;32m      4\u001b[0m \u001b[38;5;66;03m# sort them in descending order\u001b[39;00m\n\u001b[0;32m----> 5\u001b[0m sorted_counts \u001b[38;5;241m=\u001b[39m \u001b[43mlast_column_values\u001b[49m\u001b[38;5;241;43m.\u001b[39;49m\u001b[43mcountByValue\u001b[49m\u001b[43m(\u001b[49m\u001b[43m)\u001b[49m\u001b[38;5;241m.\u001b[39mitems()\n\u001b[1;32m      6\u001b[0m sorted_counts \u001b[38;5;241m=\u001b[39m \u001b[38;5;28msorted\u001b[39m(sorted_counts, key\u001b[38;5;241m=\u001b[39m\u001b[38;5;28;01mlambda\u001b[39;00m x: x[\u001b[38;5;241m1\u001b[39m], reverse\u001b[38;5;241m=\u001b[39m\u001b[38;5;28;01mTrue\u001b[39;00m)\n\u001b[1;32m      8\u001b[0m \u001b[38;5;28;01mfor\u001b[39;00m value, count \u001b[38;5;129;01min\u001b[39;00m sorted_counts:\n",
      "File \u001b[0;32m~/.local/lib/python3.10/site-packages/pyspark/rdd.py:2662\u001b[0m, in \u001b[0;36mRDD.countByValue\u001b[0;34m(self)\u001b[0m\n\u001b[1;32m   2659\u001b[0m         m1[k] \u001b[38;5;241m+\u001b[39m\u001b[38;5;241m=\u001b[39m v\n\u001b[1;32m   2660\u001b[0m     \u001b[38;5;28;01mreturn\u001b[39;00m m1\n\u001b[0;32m-> 2662\u001b[0m \u001b[38;5;28;01mreturn\u001b[39;00m \u001b[38;5;28;43mself\u001b[39;49m\u001b[38;5;241;43m.\u001b[39;49m\u001b[43mmapPartitions\u001b[49m\u001b[43m(\u001b[49m\u001b[43mcountPartition\u001b[49m\u001b[43m)\u001b[49m\u001b[38;5;241;43m.\u001b[39;49m\u001b[43mreduce\u001b[49m\u001b[43m(\u001b[49m\u001b[43mmergeMaps\u001b[49m\u001b[43m)\u001b[49m\n",
      "File \u001b[0;32m~/.local/lib/python3.10/site-packages/pyspark/rdd.py:1924\u001b[0m, in \u001b[0;36mRDD.reduce\u001b[0;34m(self, f)\u001b[0m\n\u001b[1;32m   1921\u001b[0m         \u001b[38;5;28;01mreturn\u001b[39;00m\n\u001b[1;32m   1922\u001b[0m     \u001b[38;5;28;01myield\u001b[39;00m reduce(f, iterator, initial)\n\u001b[0;32m-> 1924\u001b[0m vals \u001b[38;5;241m=\u001b[39m \u001b[38;5;28;43mself\u001b[39;49m\u001b[38;5;241;43m.\u001b[39;49m\u001b[43mmapPartitions\u001b[49m\u001b[43m(\u001b[49m\u001b[43mfunc\u001b[49m\u001b[43m)\u001b[49m\u001b[38;5;241;43m.\u001b[39;49m\u001b[43mcollect\u001b[49m\u001b[43m(\u001b[49m\u001b[43m)\u001b[49m\n\u001b[1;32m   1925\u001b[0m \u001b[38;5;28;01mif\u001b[39;00m vals:\n\u001b[1;32m   1926\u001b[0m     \u001b[38;5;28;01mreturn\u001b[39;00m reduce(f, vals)\n",
      "File \u001b[0;32m~/.local/lib/python3.10/site-packages/pyspark/rdd.py:1833\u001b[0m, in \u001b[0;36mRDD.collect\u001b[0;34m(self)\u001b[0m\n\u001b[1;32m   1831\u001b[0m \u001b[38;5;28;01mwith\u001b[39;00m SCCallSiteSync(\u001b[38;5;28mself\u001b[39m\u001b[38;5;241m.\u001b[39mcontext):\n\u001b[1;32m   1832\u001b[0m     \u001b[38;5;28;01massert\u001b[39;00m \u001b[38;5;28mself\u001b[39m\u001b[38;5;241m.\u001b[39mctx\u001b[38;5;241m.\u001b[39m_jvm \u001b[38;5;129;01mis\u001b[39;00m \u001b[38;5;129;01mnot\u001b[39;00m \u001b[38;5;28;01mNone\u001b[39;00m\n\u001b[0;32m-> 1833\u001b[0m     sock_info \u001b[38;5;241m=\u001b[39m \u001b[38;5;28mself\u001b[39m\u001b[38;5;241m.\u001b[39mctx\u001b[38;5;241m.\u001b[39m_jvm\u001b[38;5;241m.\u001b[39mPythonRDD\u001b[38;5;241m.\u001b[39mcollectAndServe(\u001b[38;5;28;43mself\u001b[39;49m\u001b[38;5;241;43m.\u001b[39;49m\u001b[43m_jrdd\u001b[49m\u001b[38;5;241m.\u001b[39mrdd())\n\u001b[1;32m   1834\u001b[0m \u001b[38;5;28;01mreturn\u001b[39;00m \u001b[38;5;28mlist\u001b[39m(_load_from_socket(sock_info, \u001b[38;5;28mself\u001b[39m\u001b[38;5;241m.\u001b[39m_jrdd_deserializer))\n",
      "File \u001b[0;32m~/.local/lib/python3.10/site-packages/pyspark/rdd.py:5470\u001b[0m, in \u001b[0;36mPipelinedRDD._jrdd\u001b[0;34m(self)\u001b[0m\n\u001b[1;32m   5467\u001b[0m \u001b[38;5;28;01melse\u001b[39;00m:\n\u001b[1;32m   5468\u001b[0m     profiler \u001b[38;5;241m=\u001b[39m \u001b[38;5;28;01mNone\u001b[39;00m\n\u001b[0;32m-> 5470\u001b[0m wrapped_func \u001b[38;5;241m=\u001b[39m \u001b[43m_wrap_function\u001b[49m\u001b[43m(\u001b[49m\n\u001b[1;32m   5471\u001b[0m \u001b[43m    \u001b[49m\u001b[38;5;28;43mself\u001b[39;49m\u001b[38;5;241;43m.\u001b[39;49m\u001b[43mctx\u001b[49m\u001b[43m,\u001b[49m\u001b[43m \u001b[49m\u001b[38;5;28;43mself\u001b[39;49m\u001b[38;5;241;43m.\u001b[39;49m\u001b[43mfunc\u001b[49m\u001b[43m,\u001b[49m\u001b[43m \u001b[49m\u001b[38;5;28;43mself\u001b[39;49m\u001b[38;5;241;43m.\u001b[39;49m\u001b[43m_prev_jrdd_deserializer\u001b[49m\u001b[43m,\u001b[49m\u001b[43m \u001b[49m\u001b[38;5;28;43mself\u001b[39;49m\u001b[38;5;241;43m.\u001b[39;49m\u001b[43m_jrdd_deserializer\u001b[49m\u001b[43m,\u001b[49m\u001b[43m \u001b[49m\u001b[43mprofiler\u001b[49m\n\u001b[1;32m   5472\u001b[0m \u001b[43m\u001b[49m\u001b[43m)\u001b[49m\n\u001b[1;32m   5474\u001b[0m \u001b[38;5;28;01massert\u001b[39;00m \u001b[38;5;28mself\u001b[39m\u001b[38;5;241m.\u001b[39mctx\u001b[38;5;241m.\u001b[39m_jvm \u001b[38;5;129;01mis\u001b[39;00m \u001b[38;5;129;01mnot\u001b[39;00m \u001b[38;5;28;01mNone\u001b[39;00m\n\u001b[1;32m   5475\u001b[0m python_rdd \u001b[38;5;241m=\u001b[39m \u001b[38;5;28mself\u001b[39m\u001b[38;5;241m.\u001b[39mctx\u001b[38;5;241m.\u001b[39m_jvm\u001b[38;5;241m.\u001b[39mPythonRDD(\n\u001b[1;32m   5476\u001b[0m     \u001b[38;5;28mself\u001b[39m\u001b[38;5;241m.\u001b[39m_prev_jrdd\u001b[38;5;241m.\u001b[39mrdd(), wrapped_func, \u001b[38;5;28mself\u001b[39m\u001b[38;5;241m.\u001b[39mpreservesPartitioning, \u001b[38;5;28mself\u001b[39m\u001b[38;5;241m.\u001b[39mis_barrier\n\u001b[1;32m   5477\u001b[0m )\n",
      "File \u001b[0;32m~/.local/lib/python3.10/site-packages/pyspark/rdd.py:5270\u001b[0m, in \u001b[0;36m_wrap_function\u001b[0;34m(sc, func, deserializer, serializer, profiler)\u001b[0m\n\u001b[1;32m   5268\u001b[0m pickled_command, broadcast_vars, env, includes \u001b[38;5;241m=\u001b[39m _prepare_for_python_RDD(sc, command)\n\u001b[1;32m   5269\u001b[0m \u001b[38;5;28;01massert\u001b[39;00m sc\u001b[38;5;241m.\u001b[39m_jvm \u001b[38;5;129;01mis\u001b[39;00m \u001b[38;5;129;01mnot\u001b[39;00m \u001b[38;5;28;01mNone\u001b[39;00m\n\u001b[0;32m-> 5270\u001b[0m \u001b[38;5;28;01mreturn\u001b[39;00m \u001b[43msc\u001b[49m\u001b[38;5;241;43m.\u001b[39;49m\u001b[43m_jvm\u001b[49m\u001b[38;5;241;43m.\u001b[39;49m\u001b[43mSimplePythonFunction\u001b[49m\u001b[43m(\u001b[49m\n\u001b[1;32m   5271\u001b[0m \u001b[43m    \u001b[49m\u001b[38;5;28;43mbytearray\u001b[39;49m\u001b[43m(\u001b[49m\u001b[43mpickled_command\u001b[49m\u001b[43m)\u001b[49m\u001b[43m,\u001b[49m\n\u001b[1;32m   5272\u001b[0m \u001b[43m    \u001b[49m\u001b[43menv\u001b[49m\u001b[43m,\u001b[49m\n\u001b[1;32m   5273\u001b[0m \u001b[43m    \u001b[49m\u001b[43mincludes\u001b[49m\u001b[43m,\u001b[49m\n\u001b[1;32m   5274\u001b[0m \u001b[43m    \u001b[49m\u001b[43msc\u001b[49m\u001b[38;5;241;43m.\u001b[39;49m\u001b[43mpythonExec\u001b[49m\u001b[43m,\u001b[49m\n\u001b[1;32m   5275\u001b[0m \u001b[43m    \u001b[49m\u001b[43msc\u001b[49m\u001b[38;5;241;43m.\u001b[39;49m\u001b[43mpythonVer\u001b[49m\u001b[43m,\u001b[49m\n\u001b[1;32m   5276\u001b[0m \u001b[43m    \u001b[49m\u001b[43mbroadcast_vars\u001b[49m\u001b[43m,\u001b[49m\n\u001b[1;32m   5277\u001b[0m \u001b[43m    \u001b[49m\u001b[43msc\u001b[49m\u001b[38;5;241;43m.\u001b[39;49m\u001b[43m_javaAccumulator\u001b[49m\u001b[43m,\u001b[49m\n\u001b[1;32m   5278\u001b[0m \u001b[43m\u001b[49m\u001b[43m)\u001b[49m\n",
      "\u001b[0;31mTypeError\u001b[0m: 'JavaPackage' object is not callable"
     ]
    }
   ],
   "source": [
    "# split line by comma and get the last element\n",
    "last_column_values = rawData.map(lambda x: x.split(',')[-1])\n",
    "\n",
    "# sort them in descending order\n",
    "sorted_counts = last_column_values.countByValue().items()\n",
    "sorted_counts = sorted(sorted_counts, key=lambda x: x[1], reverse=True)\n",
    "\n",
    "for value, count in sorted_counts:\n",
    "    print(f\"{value}: {count}\")"
   ]
  },
  {
   "cell_type": "code",
   "execution_count": 4,
   "id": "ebb111c5",
   "metadata": {},
   "outputs": [],
   "source": [
    "#extract labels and vectors\n",
    "labelsAndData = rawData.map(lambda line: line.split(',')).map(lambda arr: (arr[-1], Vectors.dense(arr[0:1] + arr[4:-1])))\n",
    "data = labelsAndData.values().cache()\n"
   ]
  },
  {
   "cell_type": "code",
   "execution_count": 5,
   "id": "c3681437",
   "metadata": {
    "scrolled": false
   },
   "outputs": [
    {
     "name": "stderr",
     "output_type": "stream",
     "text": [
      "\r\n",
      "[Stage 1:>                                                          (0 + 1) / 1]\r"
     ]
    },
    {
     "name": "stdout",
     "output_type": "stream",
     "text": [
      "('normal.', DenseVector([0.0, 241.0, 261.0, 0.0, 0.0, 0.0, 0.0, 0.0, 1.0, 0.0, 0.0, 0.0, 0.0, 0.0, 0.0, 0.0, 0.0, 0.0, 0.0, 3.0, 3.0, 0.0, 0.0, 0.0, 0.0, 1.0, 0.0, 0.0, 16.0, 151.0, 1.0, 0.0, 0.06, 0.04, 0.0, 0.0, 0.0, 0.0]))\n",
      "('normal.', DenseVector([0.0, 184.0, 2653.0, 0.0, 0.0, 0.0, 0.0, 0.0, 1.0, 0.0, 0.0, 0.0, 0.0, 0.0, 0.0, 0.0, 0.0, 0.0, 0.0, 1.0, 1.0, 0.0, 0.0, 0.0, 0.0, 1.0, 0.0, 0.0, 36.0, 255.0, 1.0, 0.0, 0.03, 0.05, 0.0, 0.0, 0.0, 0.0]))\n",
      "('normal.', DenseVector([202.0, 321.0, 424.0, 0.0, 0.0, 0.0, 0.0, 0.0, 1.0, 0.0, 0.0, 0.0, 0.0, 0.0, 0.0, 0.0, 0.0, 0.0, 0.0, 9.0, 9.0, 0.0, 0.0, 0.0, 0.0, 1.0, 0.0, 0.0, 69.0, 255.0, 1.0, 0.0, 0.01, 0.04, 0.0, 0.0, 0.0, 0.0]))\n",
      "('normal.', DenseVector([0.0, 260.0, 2444.0, 0.0, 0.0, 0.0, 0.0, 0.0, 1.0, 0.0, 0.0, 0.0, 0.0, 0.0, 0.0, 0.0, 0.0, 0.0, 0.0, 1.0, 1.0, 0.0, 0.0, 0.0, 0.0, 1.0, 0.0, 0.0, 1.0, 255.0, 1.0, 0.0, 1.0, 0.06, 0.0, 0.0, 0.0, 0.0]))\n",
      "('normal.', DenseVector([0.0, 306.0, 1138.0, 0.0, 0.0, 0.0, 0.0, 0.0, 1.0, 0.0, 0.0, 0.0, 0.0, 0.0, 0.0, 0.0, 0.0, 0.0, 0.0, 24.0, 24.0, 0.0, 0.0, 0.0, 0.0, 1.0, 0.0, 0.0, 24.0, 255.0, 1.0, 0.0, 0.04, 0.04, 0.0, 0.0, 0.0, 0.0]))\n",
      "('normal.', DenseVector([0.0, 236.0, 2112.0, 0.0, 0.0, 0.0, 0.0, 0.0, 1.0, 0.0, 0.0, 0.0, 0.0, 0.0, 0.0, 0.0, 0.0, 0.0, 0.0, 18.0, 20.0, 0.0, 0.0, 0.0, 0.0, 1.0, 0.0, 0.1, 53.0, 255.0, 1.0, 0.0, 0.02, 0.04, 0.0, 0.0, 0.0, 0.0]))\n",
      "('normal.', DenseVector([0.0, 330.0, 2164.0, 0.0, 0.0, 0.0, 0.0, 0.0, 1.0, 0.0, 0.0, 0.0, 0.0, 0.0, 0.0, 0.0, 0.0, 0.0, 0.0, 18.0, 18.0, 0.0, 0.0, 0.0, 0.0, 1.0, 0.0, 0.0, 72.0, 255.0, 1.0, 0.0, 0.01, 0.04, 0.0, 0.0, 0.0, 0.0]))\n",
      "('normal.', DenseVector([0.0, 208.0, 1658.0, 0.0, 0.0, 0.0, 0.0, 0.0, 1.0, 0.0, 0.0, 0.0, 0.0, 0.0, 0.0, 0.0, 0.0, 0.0, 0.0, 11.0, 26.0, 0.0, 0.0, 0.0, 0.0, 1.0, 0.0, 0.15, 207.0, 255.0, 1.0, 0.0, 0.0, 0.01, 0.0, 0.0, 0.0, 0.0]))\n",
      "('normal.', DenseVector([0.0, 307.0, 468.0, 0.0, 0.0, 0.0, 0.0, 0.0, 1.0, 0.0, 0.0, 0.0, 0.0, 0.0, 0.0, 0.0, 0.0, 0.0, 0.0, 8.0, 8.0, 0.0, 0.0, 0.0, 0.0, 1.0, 0.0, 0.0, 242.0, 255.0, 1.0, 0.0, 0.0, 0.01, 0.0, 0.0, 0.0, 0.0]))\n",
      "('normal.', DenseVector([0.0, 219.0, 296.0, 0.0, 0.0, 0.0, 0.0, 0.0, 1.0, 0.0, 0.0, 0.0, 0.0, 0.0, 0.0, 0.0, 0.0, 0.0, 0.0, 6.0, 6.0, 0.0, 0.0, 0.0, 0.0, 1.0, 0.0, 0.0, 255.0, 255.0, 1.0, 0.0, 0.0, 0.0, 0.0, 0.0, 0.0, 0.0]))\n"
     ]
    },
    {
     "name": "stderr",
     "output_type": "stream",
     "text": [
      "\r\n",
      "                                                                                \r"
     ]
    }
   ],
   "source": [
    "sample_data = labelsAndData.take(10)  # Take the first 10 elements as a sample\n",
    "for data_point in sample_data:\n",
    "    print(data_point)\n"
   ]
  },
  {
   "cell_type": "code",
   "execution_count": 6,
   "id": "ddaacdf9",
   "metadata": {},
   "outputs": [
    {
     "name": "stderr",
     "output_type": "stream",
     "text": [
      "\r\n",
      "[Stage 2:>                                                          (0 + 1) / 1]\r"
     ]
    },
    {
     "name": "stdout",
     "output_type": "stream",
     "text": [
      "[0.0,241.0,261.0,0.0,0.0,0.0,0.0,0.0,1.0,0.0,0.0,0.0,0.0,0.0,0.0,0.0,0.0,0.0,0.0,3.0,3.0,0.0,0.0,0.0,0.0,1.0,0.0,0.0,16.0,151.0,1.0,0.0,0.06,0.04,0.0,0.0,0.0,0.0]\n",
      "[0.0,184.0,2653.0,0.0,0.0,0.0,0.0,0.0,1.0,0.0,0.0,0.0,0.0,0.0,0.0,0.0,0.0,0.0,0.0,1.0,1.0,0.0,0.0,0.0,0.0,1.0,0.0,0.0,36.0,255.0,1.0,0.0,0.03,0.05,0.0,0.0,0.0,0.0]\n",
      "[202.0,321.0,424.0,0.0,0.0,0.0,0.0,0.0,1.0,0.0,0.0,0.0,0.0,0.0,0.0,0.0,0.0,0.0,0.0,9.0,9.0,0.0,0.0,0.0,0.0,1.0,0.0,0.0,69.0,255.0,1.0,0.0,0.01,0.04,0.0,0.0,0.0,0.0]\n",
      "[0.0,260.0,2444.0,0.0,0.0,0.0,0.0,0.0,1.0,0.0,0.0,0.0,0.0,0.0,0.0,0.0,0.0,0.0,0.0,1.0,1.0,0.0,0.0,0.0,0.0,1.0,0.0,0.0,1.0,255.0,1.0,0.0,1.0,0.06,0.0,0.0,0.0,0.0]\n",
      "[0.0,306.0,1138.0,0.0,0.0,0.0,0.0,0.0,1.0,0.0,0.0,0.0,0.0,0.0,0.0,0.0,0.0,0.0,0.0,24.0,24.0,0.0,0.0,0.0,0.0,1.0,0.0,0.0,24.0,255.0,1.0,0.0,0.04,0.04,0.0,0.0,0.0,0.0]\n",
      "[0.0,236.0,2112.0,0.0,0.0,0.0,0.0,0.0,1.0,0.0,0.0,0.0,0.0,0.0,0.0,0.0,0.0,0.0,0.0,18.0,20.0,0.0,0.0,0.0,0.0,1.0,0.0,0.1,53.0,255.0,1.0,0.0,0.02,0.04,0.0,0.0,0.0,0.0]\n",
      "[0.0,330.0,2164.0,0.0,0.0,0.0,0.0,0.0,1.0,0.0,0.0,0.0,0.0,0.0,0.0,0.0,0.0,0.0,0.0,18.0,18.0,0.0,0.0,0.0,0.0,1.0,0.0,0.0,72.0,255.0,1.0,0.0,0.01,0.04,0.0,0.0,0.0,0.0]\n",
      "[0.0,208.0,1658.0,0.0,0.0,0.0,0.0,0.0,1.0,0.0,0.0,0.0,0.0,0.0,0.0,0.0,0.0,0.0,0.0,11.0,26.0,0.0,0.0,0.0,0.0,1.0,0.0,0.15,207.0,255.0,1.0,0.0,0.0,0.01,0.0,0.0,0.0,0.0]\n",
      "[0.0,307.0,468.0,0.0,0.0,0.0,0.0,0.0,1.0,0.0,0.0,0.0,0.0,0.0,0.0,0.0,0.0,0.0,0.0,8.0,8.0,0.0,0.0,0.0,0.0,1.0,0.0,0.0,242.0,255.0,1.0,0.0,0.0,0.01,0.0,0.0,0.0,0.0]\n",
      "[0.0,219.0,296.0,0.0,0.0,0.0,0.0,0.0,1.0,0.0,0.0,0.0,0.0,0.0,0.0,0.0,0.0,0.0,0.0,6.0,6.0,0.0,0.0,0.0,0.0,1.0,0.0,0.0,255.0,255.0,1.0,0.0,0.0,0.0,0.0,0.0,0.0,0.0]\n"
     ]
    },
    {
     "name": "stderr",
     "output_type": "stream",
     "text": [
      "\r\n",
      "                                                                                \r"
     ]
    }
   ],
   "source": [
    "sample_data = data.take(10)  # Take the first 10 elements as a sample\n",
    "for data_point in sample_data:\n",
    "    print(data_point)"
   ]
  },
  {
   "cell_type": "code",
   "execution_count": 7,
   "id": "e1684300",
   "metadata": {},
   "outputs": [],
   "source": [
    "# pyspark.mllib. is for rdd and pyspark.ml. is for dataframe."
   ]
  },
  {
   "cell_type": "code",
   "execution_count": 8,
   "id": "0fae3edb",
   "metadata": {},
   "outputs": [
    {
     "name": "stderr",
     "output_type": "stream",
     "text": [
      "                                                                                \r"
     ]
    },
    {
     "name": "stdout",
     "output_type": "stream",
     "text": [
      "[5.11948699e+01 6.86780812e+02 5.41312153e+02 0.00000000e+00\n",
      " 7.17639581e-04 0.00000000e+00 9.04225872e-03 6.15119641e-05\n",
      " 1.42625741e-01 1.06005618e-02 6.15119641e-05 8.20159521e-05\n",
      " 1.74488938e-02 2.00939083e-03 2.05039880e-05 1.51729511e-03\n",
      " 0.00000000e+00 0.00000000e+00 6.97135593e-04 3.35112095e+02\n",
      " 2.95384101e+02 1.76905128e-01 1.76984478e-01 5.68918005e-02\n",
      " 5.69061532e-02 7.91223678e-01 2.11701626e-02 2.84140165e-02\n",
      " 2.33269914e+02 1.89311333e+02 7.54063070e-01 3.05142400e-02\n",
      " 6.05299666e-01 6.42287425e-03 1.77089049e-01 1.76893646e-01\n",
      " 5.73687232e-02 5.69707408e-02]\n",
      "[4.23333333e+01 6.84333333e+02 1.52648167e+06 0.00000000e+00\n",
      " 0.00000000e+00 0.00000000e+00 0.00000000e+00 0.00000000e+00\n",
      " 1.00000000e+00 0.00000000e+00 0.00000000e+00 0.00000000e+00\n",
      " 0.00000000e+00 0.00000000e+00 0.00000000e+00 0.00000000e+00\n",
      " 0.00000000e+00 0.00000000e+00 0.00000000e+00 1.00000000e+00\n",
      " 1.00000000e+00 0.00000000e+00 0.00000000e+00 0.00000000e+00\n",
      " 0.00000000e+00 1.00000000e+00 0.00000000e+00 0.00000000e+00\n",
      " 1.93000000e+02 2.03333333e+01 1.03333333e-01 2.66666667e-02\n",
      " 6.66666667e-03 0.00000000e+00 0.00000000e+00 0.00000000e+00\n",
      " 3.33333333e-03 2.66666667e-02]\n"
     ]
    }
   ],
   "source": [
    "kmeans = KMeans()\n",
    "model = kmeans.train(data, k = 2)         # k = number of clusters\n",
    "cluster_centers = model.clusterCenters    # cluster centers\n",
    "\n",
    "for c in cluster_centers:\n",
    "    print(c)"
   ]
  },
  {
   "cell_type": "code",
   "execution_count": 9,
   "id": "f8dd0de6",
   "metadata": {},
   "outputs": [
    {
     "name": "stderr",
     "output_type": "stream",
     "text": [
      "[Stage 15:==============================================>         (19 + 4) / 23]\r"
     ]
    },
    {
     "name": "stdout",
     "output_type": "stream",
     "text": [
      "0back.                   23\n",
      "0ipsweep.               106\n",
      "0neptune.             10603\n",
      "0nmap.                   19\n",
      "0normal.               9795\n",
      "0pod.                     2\n",
      "0portsweep.              89\n",
      "0satan.                 147\n",
      "0smurf.               27966\n",
      "0teardrop.               11\n",
      "0warezclient.            10\n",
      "1normal.                  3\n"
     ]
    },
    {
     "name": "stderr",
     "output_type": "stream",
     "text": [
      "\r\n",
      "[Stage 15:=====================================================>  (22 + 1) / 23]\r\n",
      "\r\n",
      "                                                                                \r"
     ]
    }
   ],
   "source": [
    "# maps each (label, vector) tuple to (cluster, label)\n",
    "cluster_label_rdd = labelsAndData.map(lambda x: (model.predict(x[1]), x[0]))\n",
    "\n",
    "# Count (cluster, label) pair\n",
    "clusterLabelCount = cluster_label_rdd.countByValue()\n",
    "\n",
    "for ((cluster, label), count) in sorted(clusterLabelCount.items()):\n",
    "    print(f\"{cluster}{label:18}{count:8}\")\n"
   ]
  },
  {
   "cell_type": "markdown",
   "id": "0046ee80",
   "metadata": {},
   "source": [
    "#### ------------ Use this to Dump the Non-Normalized Data & Clusters -----------"
   ]
  },
  {
   "cell_type": "code",
   "execution_count": 11,
   "id": "90d0803d",
   "metadata": {},
   "outputs": [
    {
     "name": "stderr",
     "output_type": "stream",
     "text": [
      "                                                                                \r"
     ]
    }
   ],
   "source": [
    "kmeans = KMeans()\n",
    "model = kmeans.train(data, k = 100)\n",
    "\n",
    "# maps each vector to (cluster, vector) and concatenate cluster and vector\n",
    "sample = data.map(lambda vector: (model.predict(vector), vector.toArray())).map(lambda x: (x[0], \",\".join(map(str, x[1]))))\n",
    "sample.sample(False, 0.01).saveAsTextFile(\"./kmeans-sample\")\n"
   ]
  },
  {
   "cell_type": "markdown",
   "id": "d8d8d3b9",
   "metadata": {},
   "source": [
    "###  ------------ Investigate the Average Distance to Closest Centroid  ---------"
   ]
  },
  {
   "cell_type": "code",
   "execution_count": 12,
   "id": "0a5945f9",
   "metadata": {},
   "outputs": [
    {
     "name": "stderr",
     "output_type": "stream",
     "text": [
      "[Stage 740:=============================================>         (19 + 4) / 23]\r"
     ]
    },
    {
     "name": "stdout",
     "output_type": "stream",
     "text": [
      "(30, 221.78641397582092)\n",
      "(40, 133.57388569832327)\n",
      "(50, 107.86889817608014)\n",
      "(60, 94.1338657444307)\n"
     ]
    },
    {
     "name": "stderr",
     "output_type": "stream",
     "text": [
      "\r\n",
      "[Stage 740:===============================================>       (20 + 3) / 23]\r\n",
      "\r\n",
      "                                                                                \r"
     ]
    }
   ],
   "source": [
    "\n",
    "# calculates the distance between vectors\n",
    "def distance(a, b):\n",
    "    return np.sqrt(np.sum((a - b) ** 2))\n",
    "\n",
    "# calculates the distance to centroid\n",
    "def distToCentroid(vector, model):\n",
    "    cluster = model.predict(vector)\n",
    "    centroid = model.clusterCenters[cluster]\n",
    "    return distance(centroid, vector)\n",
    "\n",
    "# calculates clustering score\n",
    "def clusteringScore(data, k):\n",
    "    kmeans = KMeans.train(data, k)\n",
    "    return data.map(lambda vector: distToCentroid(vector, kmeans)).mean()\n",
    "\n",
    "results = []\n",
    "for k in range(30, 61, 10):\n",
    "    score = clusteringScore(data, k)\n",
    "    results.append((k, score))\n",
    "\n",
    "for r in results:\n",
    "    print(r)\n"
   ]
  },
  {
   "cell_type": "markdown",
   "id": "a4316d35",
   "metadata": {},
   "source": [
    "### ------------ Normalize the Data and Compare Clustering Scores --------------"
   ]
  },
  {
   "cell_type": "code",
   "execution_count": 13,
   "id": "7553b17e",
   "metadata": {
    "scrolled": false
   },
   "outputs": [
    {
     "name": "stderr",
     "output_type": "stream",
     "text": [
      "[Stage 1227:=================================================>    (21 + 2) / 23]\r"
     ]
    },
    {
     "name": "stdout",
     "output_type": "stream",
     "text": [
      "(60, 0.36322999794396466)\n",
      "(70, 0.36440054043555853)\n",
      "(80, 0.3094871254707068)\n",
      "(90, 0.2986894327915839)\n",
      "(100, 0.3094078265635087)\n",
      "(110, 0.2723743922079604)\n",
      "(120, 0.24238071401122147)\n"
     ]
    },
    {
     "name": "stderr",
     "output_type": "stream",
     "text": [
      "\r\n",
      "[Stage 1227:===================================================>  (22 + 1) / 23]\r\n",
      "\r\n",
      "                                                                                \r"
     ]
    },
    {
     "data": {
      "text/plain": [
       "PythonRDD[840] at RDD at PythonRDD.scala:53"
      ]
     },
     "execution_count": 13,
     "metadata": {},
     "output_type": "execute_result"
    }
   ],
   "source": [
    "def normalize(data):\n",
    "    data_as_array = data.map(lambda x: x.toArray())\n",
    "    num_cols = len(data_as_array.first())\n",
    "    n = data_as_array.count()\n",
    "    sums = data_as_array.reduce(lambda a, b: [x + y for x, y in zip(a, b)])\n",
    "    sum_squares = data_as_array.aggregate([0.0] * num_cols,\n",
    "                                          lambda a, b: [x + y * y for x, y in zip(a, b)],\n",
    "                                          lambda a, b: [x + y for x, y in zip(a, b)])\n",
    "    stdevs = [math.sqrt(n * sum_sq - sum_ * sum_) / n for sum_sq, sum_ in zip(sum_squares, sums)]\n",
    "    means = [sum_ / n for sum_ in sums]\n",
    "\n",
    "    def normalize_vector(vector):\n",
    "        normalized_array = [(value - mean) / stdev if stdev > 0 else value - mean\n",
    "                            for value, mean, stdev in zip(vector.toArray(), means, stdevs)]\n",
    "        return Vectors.dense(normalized_array)\n",
    "\n",
    "    return normalize_vector\n",
    "\n",
    "normalized_data = data.map(normalize(data)).cache()\n",
    "\n",
    "\n",
    "clustering_scores = [(k, clusteringScore(normalized_data, k)) for k in range(60, 121, 10)]\n",
    "\n",
    "\n",
    "for score in clustering_scores:\n",
    "    print(score)\n",
    "\n",
    "normalized_data.unpersist()\n",
    "\n"
   ]
  },
  {
   "cell_type": "markdown",
   "id": "05e51dd9",
   "metadata": {},
   "source": [
    "### ------------ Switch to One-Hot Encoding of Categorical Attributes  ---------"
   ]
  },
  {
   "cell_type": "code",
   "execution_count": 14,
   "id": "dbdfaa2f",
   "metadata": {},
   "outputs": [
    {
     "name": "stdout",
     "output_type": "stream",
     "text": [
      "2\n"
     ]
    }
   ],
   "source": [
    "\n",
    "def onehot(raw_data):\n",
    "    splitData = raw_data.map(lambda x: x.split(','))\n",
    "    protocols = splitData.map(lambda x: x[1]).distinct().zipWithIndex().collectAsMap()\n",
    "    print(\"PROTOCOLS\", protocols)\n",
    "    services = splitData.map(lambda x: x[2]).distinct().zipWithIndex().collectAsMap()\n",
    "    print(\"SERVICES\", services)\n",
    "    tcpStates = splitData.map(lambda x: x[3]).distinct().zipWithIndex().collectAsMap()\n",
    "    print(\"TCPSTATES\", tcpStates)\n",
    "\n",
    "    def encode_line(line):\n",
    "        buffer = line.split(',')\n",
    "        protocol = buffer.pop(1)\n",
    "        service = buffer.pop(1)\n",
    "        tcpState = buffer.pop(1)\n",
    "        label = buffer.pop(-1)\n",
    "        vector = [float(x) for x in buffer]\n",
    "\n",
    "        newProtocolFeatures = [0.0] * len(protocols)\n",
    "        newProtocolFeatures[protocols[protocol]] = 1.0\n",
    "        newServiceFeatures = [0.0] * len(services)\n",
    "        newServiceFeatures[services[service]] = 1.0\n",
    "        newTcpStateFeatures = [0.0] * len(tcpStates)\n",
    "        newTcpStateFeatures[tcpStates[tcpState]] = 1.0\n",
    "\n",
    "        vector[1:1] = newTcpStateFeatures\n",
    "        vector[1:1] = newServiceFeatures\n",
    "        vector[1:1] = newProtocolFeatures\n",
    "\n",
    "        return label, Vectors.dense(vector)\n",
    "\n",
    "    return encode_line\n",
    "\n",
    "print(\"2\")\n",
    "\n"
   ]
  },
  {
   "cell_type": "markdown",
   "id": "e48530bf",
   "metadata": {},
   "source": [
    "### ------------- Dump the Normalized and One-Hot Encoded Data  ----------------"
   ]
  },
  {
   "cell_type": "code",
   "execution_count": 16,
   "id": "ef7dae16",
   "metadata": {},
   "outputs": [
    {
     "name": "stderr",
     "output_type": "stream",
     "text": [
      "                                                                                \r"
     ]
    },
    {
     "name": "stdout",
     "output_type": "stream",
     "text": [
      "PROTOCOLS {'tcp': 0, 'udp': 1, 'icmp': 2}\n"
     ]
    },
    {
     "name": "stderr",
     "output_type": "stream",
     "text": [
      "                                                                                \r"
     ]
    },
    {
     "name": "stdout",
     "output_type": "stream",
     "text": [
      "SERVICES {'time': 0, 'courier': 1, 'pop_3': 2, 'smtp': 3, 'ftp': 4, 'http_443': 5, 'login': 6, 'bgp': 7, 'IRC': 8, 'link': 9, 'shell': 10, 'csnet_ns': 11, 'Z39_50': 12, 'gopher': 13, 'eco_i': 14, 'efs': 15, 'name': 16, 'rje': 17, 'systat': 18, 'urh_i': 19, 'uucp': 20, 'domain': 21, 'whois': 22, 'discard': 23, 'remote_job': 24, 'sunrpc': 25, 'finger': 26, 'other': 27, 'ntp_u': 28, 'ldap': 29, 'kshell': 30, 'echo': 31, 'sql_net': 32, 'ctf': 33, 'iso_tsap': 34, 'ssh': 35, 'nntp': 36, 'hostnames': 37, 'telnet': 38, 'urp_i': 39, 'mtp': 40, 'netbios_dgm': 41, 'klogin': 42, 'netbios_ssn': 43, 'imap4': 44, 'nnsp': 45, 'supdup': 46, 'netstat': 47, 'domain_u': 48, 'auth': 49, 'private': 50, 'exec': 51, 'uucp_path': 52, 'netbios_ns': 53, 'http': 54, 'ecr_i': 55, 'ftp_data': 56, 'vmnet': 57, 'daytime': 58, 'printer': 59, 'pop_2': 60}\n"
     ]
    },
    {
     "name": "stderr",
     "output_type": "stream",
     "text": [
      "                                                                                \r"
     ]
    },
    {
     "name": "stdout",
     "output_type": "stream",
     "text": [
      "TCPSTATES {'SF': 0, 'REJ': 1, 'RSTO': 2, 'SH': 3, 'S2': 4, 'S0': 5, 'S1': 6, 'RSTR': 7}\n"
     ]
    },
    {
     "name": "stderr",
     "output_type": "stream",
     "text": [
      "                                                                                \r"
     ]
    },
    {
     "data": {
      "text/plain": [
       "PythonRDD[1536] at RDD at PythonRDD.scala:53"
      ]
     },
     "execution_count": 16,
     "metadata": {},
     "output_type": "execute_result"
    }
   ],
   "source": [
    "\n",
    "parseFunction = onehot(rawData)\n",
    "labelsAndData = rawData.map(parseFunction)\n",
    "normalizedLabelsAndData = labelsAndData.mapValues(normalize(labelsAndData.values())).cache()\n",
    "\n",
    "kmeans = KMeans()\n",
    "model = kmeans.train(normalizedLabelsAndData.values(), k = 100)\n",
    "sample = normalizedLabelsAndData.values().map(lambda vector: str(model.predict(vector)) + \",\" + \",\".join(map(str, vector.toArray()))).sample(False, 0.01)\n",
    "sample.saveAsTextFile(\"./kmeans-sample-normalized\")\n",
    "normalizedLabelsAndData.unpersist()\n"
   ]
  },
  {
   "cell_type": "markdown",
   "id": "6bb0ba53",
   "metadata": {},
   "source": [
    "### ------------ Switch to Entropy-Based Clustering Scores  --------------------"
   ]
  },
  {
   "cell_type": "code",
   "execution_count": 17,
   "id": "9f1034a7",
   "metadata": {
    "scrolled": true
   },
   "outputs": [
    {
     "name": "stderr",
     "output_type": "stream",
     "text": [
      "                                                                                \r"
     ]
    },
    {
     "name": "stdout",
     "output_type": "stream",
     "text": [
      "PROTOCOLS {'tcp': 0, 'udp': 1, 'icmp': 2}\n"
     ]
    },
    {
     "name": "stderr",
     "output_type": "stream",
     "text": [
      "                                                                                \r"
     ]
    },
    {
     "name": "stdout",
     "output_type": "stream",
     "text": [
      "SERVICES {'time': 0, 'courier': 1, 'pop_3': 2, 'smtp': 3, 'ftp': 4, 'http_443': 5, 'login': 6, 'bgp': 7, 'IRC': 8, 'link': 9, 'shell': 10, 'csnet_ns': 11, 'Z39_50': 12, 'gopher': 13, 'eco_i': 14, 'efs': 15, 'name': 16, 'rje': 17, 'systat': 18, 'urh_i': 19, 'uucp': 20, 'domain': 21, 'whois': 22, 'discard': 23, 'remote_job': 24, 'sunrpc': 25, 'finger': 26, 'other': 27, 'ntp_u': 28, 'ldap': 29, 'kshell': 30, 'echo': 31, 'sql_net': 32, 'ctf': 33, 'iso_tsap': 34, 'ssh': 35, 'nntp': 36, 'hostnames': 37, 'telnet': 38, 'urp_i': 39, 'mtp': 40, 'netbios_dgm': 41, 'klogin': 42, 'netbios_ssn': 43, 'imap4': 44, 'nnsp': 45, 'supdup': 46, 'netstat': 47, 'domain_u': 48, 'auth': 49, 'private': 50, 'exec': 51, 'uucp_path': 52, 'netbios_ns': 53, 'http': 54, 'ecr_i': 55, 'ftp_data': 56, 'vmnet': 57, 'daytime': 58, 'printer': 59, 'pop_2': 60}\n"
     ]
    },
    {
     "name": "stderr",
     "output_type": "stream",
     "text": [
      "                                                                                \r"
     ]
    },
    {
     "name": "stdout",
     "output_type": "stream",
     "text": [
      "TCPSTATES {'SF': 0, 'REJ': 1, 'RSTO': 2, 'SH': 3, 'S2': 4, 'S0': 5, 'S1': 6, 'RSTR': 7}\n"
     ]
    },
    {
     "name": "stderr",
     "output_type": "stream",
     "text": [
      "[Stage 1737:=====================================>                (16 + 7) / 23]\r"
     ]
    },
    {
     "name": "stdout",
     "output_type": "stream",
     "text": [
      "(120, 68.58141707416536)\n",
      "(130, 67.75726924322748)\n",
      "(140, 68.33242586625396)\n",
      "(150, 68.1198656006062)\n",
      "(160, 68.15977424398349)\n"
     ]
    },
    {
     "name": "stderr",
     "output_type": "stream",
     "text": [
      "\r\n",
      "[Stage 1737:==========================================>           (18 + 5) / 23]\r\n",
      "\r\n",
      "                                                                                \r"
     ]
    }
   ],
   "source": [
    "\n",
    "def entropy(counts):\n",
    "    values = [c for c in counts if c > 0]\n",
    "    n = sum(values)\n",
    "    return sum(-p * math.log(p) for v in values for p in [v / n])\n",
    "\n",
    "def clusteringScoreByEntropy(normalizedData, k):\n",
    "    normalizedData.cache()\n",
    "\n",
    "    kmeans = KMeans()\n",
    "    model = kmeans.train(normalizedData.values(), k)\n",
    "\n",
    "    normalizedData.unpersist()\n",
    "\n",
    "    labelsAndClusters = normalizedData.mapValues(lambda x: model.predict(x))\n",
    "    clustersAndLabels = labelsAndClusters.map(lambda x: (x[1], x[0]))\n",
    "    labelsInCluster = clustersAndLabels.groupByKey().values()\n",
    "    labelCounts = labelsInCluster.map(lambda x: list(map(len, x))).map(lambda x: [sum(x)] + x)\n",
    "    n = normalizedData.count()\n",
    "\n",
    "    return labelCounts.map(lambda m: sum(m) * entropy(m)).sum() / n\n",
    "\n",
    "\n",
    "parseFunction = onehot(rawData)\n",
    "labelsAndData = rawData.map(parseFunction)\n",
    "normalizeFunction = normalize(labelsAndData.values())\n",
    "normalizedLabelsAndData = labelsAndData.mapValues(normalizeFunction).cache()\n",
    "\n",
    "results = [(k, clusteringScoreByEntropy(normalizedLabelsAndData, k)) for k in range(120, 161, 10)]\n",
    "for r in results:\n",
    "    print(r)\n"
   ]
  },
  {
   "cell_type": "code",
   "execution_count": 18,
   "id": "ecaf93f7",
   "metadata": {},
   "outputs": [
    {
     "name": "stderr",
     "output_type": "stream",
     "text": [
      "[Stage 1803:===================================================>  (22 + 1) / 23]\r"
     ]
    },
    {
     "name": "stdout",
     "output_type": "stream",
     "text": [
      "0neptune.              4655\n",
      "1normal.                  3\n",
      "2neptune.                15\n",
      "3neptune.                 7\n",
      "4neptune.                 5\n",
      "5neptune.                 8\n",
      "6portsweep.              30\n",
      "7neptune.                 3\n",
      "7portsweep.               1\n",
      "8neptune.                14\n",
      "9normal.                776\n",
      "9satan.                  12\n",
      "10neptune.                 1\n",
      "10normal.                406\n",
      "11normal.                 41\n",
      "11pod.                     2\n",
      "11smurf.               27966\n",
      "12neptune.                 7\n",
      "13normal.                  1\n",
      "14neptune.                12\n",
      "15neptune.                 4\n",
      "16nmap.                   12\n",
      "17normal.                727\n",
      "18neptune.                14\n",
      "19normal.                  1\n",
      "20neptune.                 8\n",
      "21neptune.                11\n",
      "22ipsweep.                 1\n",
      "22neptune.              1906\n",
      "22portsweep.               1\n",
      "23neptune.                11\n",
      "24ipsweep.                 1\n",
      "24neptune.                 8\n",
      "25normal.                 58\n",
      "26neptune.                13\n",
      "27normal.                435\n",
      "28neptune.                14\n",
      "28normal.                  1\n",
      "29ipsweep.                65\n",
      "29nmap.                    5\n",
      "30neptune.                 2\n",
      "31normal.                  3\n",
      "32normal.                  3\n",
      "32warezclient.             2\n",
      "33neptune.                 5\n",
      "34neptune.                 5\n",
      "35normal.                  1\n",
      "36neptune.                13\n",
      "37normal.                  1\n",
      "38neptune.                 1\n",
      "38normal.                480\n",
      "39normal.                  1\n",
      "40neptune.                 3\n",
      "41neptune.                12\n",
      "42neptune.                12\n",
      "43normal.                  1\n",
      "44neptune.                 4\n",
      "44normal.                  3\n",
      "45ipsweep.                 1\n",
      "45neptune.                 2\n",
      "45normal.                 77\n",
      "46normal.                 15\n",
      "47normal.                258\n",
      "48normal.                 44\n",
      "49neptune.                 4\n",
      "50normal.                  2\n",
      "51normal.                 17\n",
      "52neptune.                11\n",
      "53normal.                  1\n",
      "54satan.                 106\n",
      "55normal.                227\n",
      "56neptune.                 2\n",
      "57normal.                  2\n",
      "58normal.                 63\n",
      "59neptune.                 7\n",
      "60neptune.                 5\n",
      "61neptune.                 8\n",
      "62neptune.                10\n",
      "62portsweep.               1\n",
      "63normal.                406\n",
      "64normal.                  1\n",
      "65neptune.                14\n",
      "66neptune.                11\n",
      "67neptune.                 5\n",
      "68normal.                 25\n",
      "68satan.                   2\n",
      "69normal.                  9\n",
      "70neptune.                11\n",
      "71normal.                  5\n",
      "72neptune.                10\n",
      "73normal.                 21\n",
      "74neptune.                 9\n",
      "75neptune.                14\n",
      "75normal.                 16\n",
      "76neptune.                 4\n",
      "77neptune.                 3\n",
      "78neptune.                12\n",
      "79neptune.                 8\n",
      "80neptune.                12\n",
      "81back.                   23\n",
      "81normal.                  5\n",
      "82neptune.                 6\n",
      "83teardrop.                9\n",
      "84normal.                 34\n",
      "85neptune.                10\n",
      "86portsweep.              14\n",
      "86satan.                  20\n",
      "87normal.               1943\n",
      "88normal.                  7\n",
      "89neptune.                12\n",
      "90normal.                 77\n",
      "91neptune.                 6\n",
      "92normal.                 34\n",
      "93neptune.                46\n",
      "93portsweep.               2\n",
      "94normal.                 18\n",
      "95neptune.                 7\n",
      "95satan.                   1\n",
      "96neptune.                 3\n",
      "97neptune.                 6\n",
      "98neptune.                10\n",
      "98portsweep.               1\n",
      "99normal.                103\n",
      "99satan.                   2\n",
      "100neptune.                14\n",
      "101neptune.                 3\n",
      "102normal.                  1\n",
      "103normal.               1602\n",
      "104normal.                  1\n",
      "105normal.                 95\n",
      "106neptune.                15\n",
      "107normal.                204\n",
      "107warezclient.             8\n",
      "108normal.                  1\n",
      "109neptune.                 4\n",
      "110ipsweep.                27\n",
      "111neptune.                11\n",
      "111normal.                  3\n",
      "112normal.                 60\n",
      "113neptune.              3436\n",
      "114neptune.                 1\n",
      "114portsweep.               1\n",
      "115normal.                 14\n",
      "116normal.                 69\n",
      "117ipsweep.                 6\n",
      "117nmap.                    2\n",
      "117normal.                 42\n",
      "118neptune.                 2\n",
      "119neptune.                18\n",
      "120normal.                 44\n",
      "121neptune.                 7\n",
      "122normal.                107\n",
      "122satan.                   4\n",
      "123normal.                 33\n",
      "124normal.                186\n",
      "125portsweep.              29\n",
      "126normal.                517\n",
      "127neptune.                 2\n",
      "127portsweep.               1\n",
      "128normal.                 15\n",
      "129neptune.                 9\n",
      "129normal.                  1\n",
      "130normal.                  1\n",
      "131neptune.                 1\n",
      "131normal.                  7\n",
      "132portsweep.               5\n",
      "133normal.                 50\n",
      "134ipsweep.                 5\n",
      "134normal.                  1\n",
      "135normal.                  8\n",
      "136normal.                190\n",
      "137portsweep.               2\n",
      "138normal.                  4\n",
      "139normal.                  6\n",
      "140neptune.                 1\n",
      "141neptune.                 9\n",
      "142normal.                166\n",
      "143neptune.                22\n",
      "144teardrop.                2\n",
      "145portsweep.               1\n",
      "146neptune.                 6\n",
      "147normal.                 15\n",
      "148neptune.                 1\n",
      "149normal.                  3\n"
     ]
    },
    {
     "name": "stderr",
     "output_type": "stream",
     "text": [
      "\r\n",
      "                                                                                \r"
     ]
    },
    {
     "data": {
      "text/plain": [
       "PythonRDD[1672] at RDD at PythonRDD.scala:53"
      ]
     },
     "execution_count": 18,
     "metadata": {},
     "output_type": "execute_result"
    }
   ],
   "source": [
    "\n",
    "model = KMeans.train(normalizedLabelsAndData.values(), 150)\n",
    "\n",
    "\n",
    "clusterLabelCount = labelsAndData.map(lambda x: (model.predict(normalizeFunction(x[1])), x[0])) \\\n",
    "    .countByValue()\n",
    "\n",
    "\n",
    "for ((cluster, label), count) in sorted(clusterLabelCount.items()):\n",
    "    print(f\"{cluster:<1}{label:18}{count:8}\")\n",
    "\n",
    "normalizedLabelsAndData.unpersist()"
   ]
  },
  {
   "cell_type": "code",
   "execution_count": 19,
   "id": "0a734e19",
   "metadata": {
    "scrolled": true
   },
   "outputs": [
    {
     "name": "stderr",
     "output_type": "stream",
     "text": [
      "                                                                                \r"
     ]
    },
    {
     "name": "stdout",
     "output_type": "stream",
     "text": [
      "PROTOCOLS {'tcp': 0, 'udp': 1, 'icmp': 2}\n"
     ]
    },
    {
     "name": "stderr",
     "output_type": "stream",
     "text": [
      "                                                                                \r"
     ]
    },
    {
     "name": "stdout",
     "output_type": "stream",
     "text": [
      "SERVICES {'time': 0, 'courier': 1, 'pop_3': 2, 'smtp': 3, 'ftp': 4, 'http_443': 5, 'login': 6, 'bgp': 7, 'IRC': 8, 'link': 9, 'shell': 10, 'csnet_ns': 11, 'Z39_50': 12, 'gopher': 13, 'eco_i': 14, 'efs': 15, 'name': 16, 'rje': 17, 'systat': 18, 'urh_i': 19, 'uucp': 20, 'domain': 21, 'whois': 22, 'discard': 23, 'remote_job': 24, 'sunrpc': 25, 'finger': 26, 'other': 27, 'ntp_u': 28, 'ldap': 29, 'kshell': 30, 'echo': 31, 'sql_net': 32, 'ctf': 33, 'iso_tsap': 34, 'ssh': 35, 'nntp': 36, 'hostnames': 37, 'telnet': 38, 'urp_i': 39, 'mtp': 40, 'netbios_dgm': 41, 'klogin': 42, 'netbios_ssn': 43, 'imap4': 44, 'nnsp': 45, 'supdup': 46, 'netstat': 47, 'domain_u': 48, 'auth': 49, 'private': 50, 'exec': 51, 'uucp_path': 52, 'netbios_ns': 53, 'http': 54, 'ecr_i': 55, 'ftp_data': 56, 'vmnet': 57, 'daytime': 58, 'printer': 59, 'pop_2': 60}\n"
     ]
    },
    {
     "name": "stderr",
     "output_type": "stream",
     "text": [
      "                                                                                \r"
     ]
    },
    {
     "name": "stdout",
     "output_type": "stream",
     "text": [
      "TCPSTATES {'SF': 0, 'REJ': 1, 'RSTO': 2, 'SH': 3, 'S2': 4, 'S0': 5, 'S1': 6, 'RSTR': 7}\n"
     ]
    },
    {
     "name": "stderr",
     "output_type": "stream",
     "text": [
      "                                                                                \r"
     ]
    },
    {
     "data": {
      "text/plain": [
       "['7886,udp,domain_u,SF,81,42,0,0,0,0,0,0,0,0,0,0,0,0,0,0,0,0,1,1,0.00,0.00,0.00,0.00,1.00,0.00,0.00,75,75,1.00,0.00,1.00,0.00,0.00,0.00,0.00,0.00,normal.',\n",
       " '1,tcp,finger,SF,10,285,0,0,0,0,0,0,0,0,0,0,0,0,0,0,0,0,2,1,0.00,0.00,0.00,0.00,0.50,1.00,0.00,82,14,0.01,0.05,0.01,0.21,0.00,0.00,0.00,0.00,normal.',\n",
       " '0,tcp,smtp,SF,1327,334,0,0,0,0,0,1,0,0,0,0,0,0,2,0,0,0,1,1,0.00,0.00,0.00,0.00,1.00,0.00,0.00,136,103,0.31,0.04,0.01,0.02,0.01,0.00,0.00,0.00,normal.',\n",
       " '7,tcp,ssh,RSTO,0,15,0,0,0,0,0,1,0,0,0,0,0,0,0,0,0,0,1,1,0.00,0.00,1.00,1.00,1.00,0.00,0.00,3,1,0.33,1.00,0.33,0.00,0.00,0.00,1.00,1.00,ipsweep.',\n",
       " '0,tcp,ftp_data,REJ,0,0,0,0,0,0,0,0,0,0,0,0,0,0,0,0,0,0,1,1,0.00,0.00,1.00,1.00,1.00,0.00,0.00,1,1,1.00,0.00,1.00,0.00,0.00,0.00,1.00,1.00,ipsweep.',\n",
       " '0,tcp,private,REJ,0,0,0,0,0,0,0,0,0,0,0,0,0,0,0,0,0,0,1,1,0.00,0.00,1.00,1.00,1.00,0.00,0.00,29,1,0.03,1.00,0.03,0.00,0.00,0.00,0.90,1.00,ipsweep.',\n",
       " '39,tcp,telnet,SF,201,456877,0,0,0,0,0,1,0,0,0,0,0,0,0,0,0,0,1,1,0.00,0.00,0.00,0.00,1.00,0.00,0.00,128,40,0.31,0.03,0.01,0.00,0.00,0.00,0.00,0.00,normal.',\n",
       " '0,tcp,ftp_data,SF,7940,0,0,0,0,0,0,1,0,0,0,0,2,0,0,0,0,0,9,9,0.00,0.00,0.00,0.00,1.00,0.00,0.00,59,45,0.36,0.03,0.36,0.04,0.00,0.00,0.00,0.00,normal.',\n",
       " '0,tcp,http,SF,179,273544,0,0,0,0,0,1,0,0,0,0,0,0,0,0,0,0,1,3,0.00,0.00,0.00,0.00,1.00,0.00,0.67,255,241,0.95,0.01,0.00,0.00,0.00,0.00,0.00,0.00,normal.',\n",
       " '0,tcp,ftp_data,SF,88382,0,0,0,0,0,0,1,0,0,0,1,0,0,0,0,0,0,1,1,0.00,0.00,0.00,0.00,1.00,0.00,0.00,71,45,0.25,0.10,0.25,0.07,0.00,0.00,0.00,0.00,normal.']"
      ]
     },
     "execution_count": 19,
     "metadata": {},
     "output_type": "execute_result"
    }
   ],
   "source": [
    "def anomaly(data, normalizeFunction):\n",
    "    normalizedData = data.map(normalizeFunction)\n",
    "    normalizedData.cache()\n",
    "\n",
    "    kmeans = KMeans()\n",
    "    model = kmeans.train(normalizedData, k=150)\n",
    "\n",
    "    normalizedData.unpersist()\n",
    "\n",
    "    distances = normalizedData.map(lambda vector: distToCentroid(vector, model))\n",
    "    threshold = distances.top(100)[-1]\n",
    "\n",
    "    return lambda vector: distToCentroid(normalizeFunction(vector), model) > threshold\n",
    "\n",
    "parseFunction = onehot(rawData)\n",
    "originalAndData = rawData.map(lambda line: (line, parseFunction(line)[1]))\n",
    "data = originalAndData.values()\n",
    "normalizeFunction = normalize(data)\n",
    "anomalyFunction = anomaly(data, normalizeFunction)\n",
    "anomalies = originalAndData.filter(lambda x: anomalyFunction(x[1])).keys()\n",
    "anomalies.take(10)\n"
   ]
  },
  {
   "cell_type": "code",
   "execution_count": 20,
   "id": "f4aff7bf",
   "metadata": {},
   "outputs": [
    {
     "name": "stderr",
     "output_type": "stream",
     "text": [
      "[Stage 1895:==============================================>       (20 + 3) / 23]\r"
     ]
    },
    {
     "name": "stdout",
     "output_type": "stream",
     "text": [
      "Fraction of anomalies: 0.20%\n"
     ]
    },
    {
     "name": "stderr",
     "output_type": "stream",
     "text": [
      "\r\n",
      "[Stage 1895:===================================================>  (22 + 1) / 23]\r\n",
      "\r\n",
      "                                                                                \r"
     ]
    }
   ],
   "source": [
    "fractionofanomalies = anomalies.count() / rawData.count() * 100\n",
    "print(\"Fraction of anomalies: {:.2f}%\".format(fractionofanomalies))"
   ]
  }
 ],
 "metadata": {
  "kernelspec": {
   "display_name": "Python 3 (ipykernel)",
   "language": "python",
   "name": "python3"
  },
  "language_info": {
   "codemirror_mode": {
    "name": "ipython",
    "version": 3
   },
   "file_extension": ".py",
   "mimetype": "text/x-python",
   "name": "python",
   "nbconvert_exporter": "python",
   "pygments_lexer": "ipython3",
   "version": "3.10.12"
  },
  "varInspector": {
   "cols": {
    "lenName": 16,
    "lenType": 16,
    "lenVar": 40
   },
   "kernels_config": {
    "python": {
     "delete_cmd_postfix": "",
     "delete_cmd_prefix": "del ",
     "library": "var_list.py",
     "varRefreshCmd": "print(var_dic_list())"
    },
    "r": {
     "delete_cmd_postfix": ") ",
     "delete_cmd_prefix": "rm(",
     "library": "var_list.r",
     "varRefreshCmd": "cat(var_dic_list()) "
    }
   },
   "types_to_exclude": [
    "module",
    "function",
    "builtin_function_or_method",
    "instance",
    "_Feature"
   ],
   "window_display": false
  }
 },
 "nbformat": 4,
 "nbformat_minor": 5
}
